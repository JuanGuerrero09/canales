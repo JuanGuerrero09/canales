{
 "cells": [
  {
   "attachments": {},
   "cell_type": "markdown",
   "metadata": {},
   "source": [
    "# Hidráulica de Canales"
   ]
  },
  {
   "attachments": {},
   "cell_type": "markdown",
   "metadata": {},
   "source": [
    "## Secciones Geométricas Aceptadas (parámetros)\n",
    "- Cuadrada (b, y)\n",
    "- Trapezoidal (T, b, y, z)\n",
    "- Triangular (T, y, z)\n",
    "- Circular (do, theta, y, T)\n",
    "\n",
    "## Elementos geométricos para distintas secciones\n",
    "- Área (A)\n",
    "- Perimetro Mojado (P)\n",
    "- Radio Hidráulico (R)\n",
    "- Ancho superficial (T)\n",
    "- Profundidad Hidráulica (D) \n",
    "- Factor de sección (Z)"
   ]
  },
  {
   "cell_type": "code",
   "execution_count": 2,
   "metadata": {},
   "outputs": [],
   "source": [
    "# Librerías\n",
    "import inquirer"
   ]
  }
 ],
 "metadata": {
  "kernelspec": {
   "display_name": "Python 3",
   "language": "python",
   "name": "python3"
  },
  "language_info": {
   "codemirror_mode": {
    "name": "ipython",
    "version": 3
   },
   "file_extension": ".py",
   "mimetype": "text/x-python",
   "name": "python",
   "nbconvert_exporter": "python",
   "pygments_lexer": "ipython3",
   "version": "3.11.3"
  },
  "orig_nbformat": 4
 },
 "nbformat": 4,
 "nbformat_minor": 2
}
